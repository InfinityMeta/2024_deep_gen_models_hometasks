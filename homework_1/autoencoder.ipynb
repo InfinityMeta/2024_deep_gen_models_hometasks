{
 "cells": [
  {
   "cell_type": "code",
   "execution_count": 119,
   "metadata": {},
   "outputs": [],
   "source": [
    "import os\n",
    "import torch\n",
    "import torch.nn as nn\n",
    "import numpy as np\n",
    "import seaborn as sns\n",
    "from torch.optim import Adam\n",
    "from torch.utils.data import DataLoader, Dataset\n",
    "from torchvision import transforms\n",
    "from tqdm import tqdm\n",
    "import random\n",
    "import numpy as np\n",
    "from PIL import Image\n",
    "from sklearn.metrics import confusion_matrix\n",
    "import matplotlib.pyplot as plt\n",
    "from torch.utils.tensorboard import SummaryWriter\n",
    "\n",
    "writer = SummaryWriter('./autoencoder_loss')\n",
    "\n",
    "TRAIN_PATH = './dataset/train/'\n",
    "PROLIV_PATH = './dataset/proliv/'\n",
    "TEST_IMGS_PATH = './dataset/test/imgs/'\n",
    "TEST_ANNOT_PATH = './dataset/test/test_annotation.txt'\n",
    "\n",
    "BATCH_SIZE = 512\n",
    "EPOCHS = 15"
   ]
  },
  {
   "cell_type": "markdown",
   "metadata": {},
   "source": [
    "Приведем все изображения из тренировочной выборки к единому размеру."
   ]
  },
  {
   "cell_type": "code",
   "execution_count": 120,
   "metadata": {},
   "outputs": [
    {
     "name": "stdout",
     "output_type": "stream",
     "text": [
      "Единый размер: (48, 27)\n"
     ]
    }
   ],
   "source": [
    "train_images_names = os.listdir(TRAIN_PATH)\n",
    "\n",
    "widths = []\n",
    "heights = []\n",
    "\n",
    "for train_image_name in train_images_names:\n",
    "    width, height = Image.open(os.path.join(TRAIN_PATH, train_image_name)).size\n",
    "    widths.append(width)\n",
    "    heights.append(height)\n",
    "\n",
    "print(f'Единый размер: {(np.median(widths).astype(\"int\"), np.median(heights).astype(\"int\"))}')"
   ]
  },
  {
   "cell_type": "code",
   "execution_count": 121,
   "metadata": {},
   "outputs": [],
   "source": [
    "TENSOR_SIZE = (27, 48)\n",
    "\n",
    "class ImagesDataset(Dataset):\n",
    "    def __init__(self, images_folder_path, transform=None):\n",
    "        images_paths = os.listdir(images_folder_path)\n",
    "        images_paths = list(map(lambda image_path : os.path.join(images_folder_path, image_path), images_paths))\n",
    "        \n",
    "        self.images_paths = images_paths\n",
    "        self.transform = transform\n",
    "        \n",
    "    def __len__(self):\n",
    "        return len(self.images_paths)\n",
    "    \n",
    "    def __getitem__(self, idx):\n",
    "        image = Image.open(self.images_paths[idx])\n",
    "        \n",
    "        if self.transform:\n",
    "            image = self.transform(image)\n",
    "        \n",
    "        return image"
   ]
  },
  {
   "cell_type": "code",
   "execution_count": 122,
   "metadata": {},
   "outputs": [],
   "source": [
    "train_dataset = ImagesDataset(\n",
    "    images_folder_path=TRAIN_PATH,\n",
    "      transform=transforms.Compose(\n",
    "            [\n",
    "              transforms.CenterCrop((TENSOR_SIZE[0] // 2, TENSOR_SIZE[1] // 2)),\n",
    "              transforms.ToTensor(),\n",
    "            ]\n",
    "        )\n",
    "    )\n",
    "\n",
    "\n",
    "train_dataloader = DataLoader(train_dataset, batch_size=BATCH_SIZE, shuffle=True)"
   ]
  },
  {
   "cell_type": "markdown",
   "metadata": {},
   "source": [
    "#### Архитектура автоэнкодера"
   ]
  },
  {
   "cell_type": "code",
   "execution_count": 123,
   "metadata": {},
   "outputs": [],
   "source": [
    "class Autoencoder(nn.Module):\n",
    "    def __init__(self, img_height, img_width, latent_dim, channels=3, loss=nn.MSELoss(), threshold=None):\n",
    "        super().__init__()\n",
    "        self.img_height = img_height\n",
    "        self.img_width = img_width\n",
    "        self.channels = channels\n",
    "        self.loss = loss\n",
    "        self.threshold = threshold\n",
    "\n",
    "        self.encoder = torch.nn.Sequential(\n",
    "            nn.Flatten(start_dim=1),\n",
    "            nn.Linear(img_width * img_height * 3, 512),\n",
    "            nn.LeakyReLU(0.2, inplace=True),\n",
    "            nn.Linear(512, latent_dim)\n",
    "        )\n",
    "         \n",
    "        self.decoder = torch.nn.Sequential(\n",
    "            nn.Linear(latent_dim, 512),\n",
    "            nn.LeakyReLU(0.2, inplace=True),\n",
    "            nn.Linear(512, img_width * img_height * 3)\n",
    "        )\n",
    " \n",
    "    def forward(self, x):\n",
    "        encoded = self.encoder(x)\n",
    "        decoded = self.decoder(encoded)\n",
    "        return decoded.reshape((-1, self.channels, self.img_height, self.img_width))\n",
    "    \n",
    "    def classify(self, x):\n",
    "        if self.threshold is None:\n",
    "            raise ValueError(\"Не установлен порог для классификации\")\n",
    "        decoded_x = self.forward(x)\n",
    "        loss = self.loss(decoded_x, x)\n",
    "        if loss >= self.threshold:\n",
    "            return 1\n",
    "        else:\n",
    "            return 0"
   ]
  },
  {
   "cell_type": "markdown",
   "metadata": {},
   "source": [
    "#### Обучение автоэнкодера"
   ]
  },
  {
   "cell_type": "code",
   "execution_count": 124,
   "metadata": {},
   "outputs": [],
   "source": [
    "ae = Autoencoder(TENSOR_SIZE[0] // 2, TENSOR_SIZE[1] // 2, latent_dim=32)\n",
    " \n",
    "loss_function = nn.MSELoss()\n",
    " \n",
    "optimizer = Adam(ae.parameters(), lr = 1e-5)"
   ]
  },
  {
   "cell_type": "code",
   "execution_count": 125,
   "metadata": {},
   "outputs": [
    {
     "name": "stdout",
     "output_type": "stream",
     "text": [
      "Epoch 1/15\n"
     ]
    },
    {
     "name": "stderr",
     "output_type": "stream",
     "text": [
      "100%|██████████| 20/20 [00:03<00:00,  5.60batch/s]\n"
     ]
    },
    {
     "name": "stdout",
     "output_type": "stream",
     "text": [
      "Epoch 2/15\n"
     ]
    },
    {
     "name": "stderr",
     "output_type": "stream",
     "text": [
      "100%|██████████| 20/20 [00:01<00:00, 11.16batch/s]\n"
     ]
    },
    {
     "name": "stdout",
     "output_type": "stream",
     "text": [
      "Epoch 3/15\n"
     ]
    },
    {
     "name": "stderr",
     "output_type": "stream",
     "text": [
      "100%|██████████| 20/20 [00:01<00:00, 17.55batch/s]\n"
     ]
    },
    {
     "name": "stdout",
     "output_type": "stream",
     "text": [
      "Epoch 4/15\n"
     ]
    },
    {
     "name": "stderr",
     "output_type": "stream",
     "text": [
      "100%|██████████| 20/20 [00:01<00:00, 19.44batch/s]\n"
     ]
    },
    {
     "name": "stdout",
     "output_type": "stream",
     "text": [
      "Epoch 5/15\n"
     ]
    },
    {
     "name": "stderr",
     "output_type": "stream",
     "text": [
      "100%|██████████| 20/20 [00:01<00:00, 13.83batch/s]\n"
     ]
    },
    {
     "name": "stdout",
     "output_type": "stream",
     "text": [
      "Epoch 6/15\n"
     ]
    },
    {
     "name": "stderr",
     "output_type": "stream",
     "text": [
      "100%|██████████| 20/20 [00:01<00:00, 10.19batch/s]\n"
     ]
    },
    {
     "name": "stdout",
     "output_type": "stream",
     "text": [
      "Epoch 7/15\n"
     ]
    },
    {
     "name": "stderr",
     "output_type": "stream",
     "text": [
      "100%|██████████| 20/20 [00:01<00:00, 17.57batch/s]\n"
     ]
    },
    {
     "name": "stdout",
     "output_type": "stream",
     "text": [
      "Epoch 8/15\n"
     ]
    },
    {
     "name": "stderr",
     "output_type": "stream",
     "text": [
      "100%|██████████| 20/20 [00:01<00:00, 11.81batch/s]\n"
     ]
    },
    {
     "name": "stdout",
     "output_type": "stream",
     "text": [
      "Epoch 9/15\n"
     ]
    },
    {
     "name": "stderr",
     "output_type": "stream",
     "text": [
      "100%|██████████| 20/20 [00:01<00:00, 13.42batch/s]\n"
     ]
    },
    {
     "name": "stdout",
     "output_type": "stream",
     "text": [
      "Epoch 10/15\n"
     ]
    },
    {
     "name": "stderr",
     "output_type": "stream",
     "text": [
      "100%|██████████| 20/20 [00:01<00:00, 13.74batch/s]\n"
     ]
    },
    {
     "name": "stdout",
     "output_type": "stream",
     "text": [
      "Epoch 11/15\n"
     ]
    },
    {
     "name": "stderr",
     "output_type": "stream",
     "text": [
      "100%|██████████| 20/20 [00:01<00:00, 19.34batch/s]\n"
     ]
    },
    {
     "name": "stdout",
     "output_type": "stream",
     "text": [
      "Epoch 12/15\n"
     ]
    },
    {
     "name": "stderr",
     "output_type": "stream",
     "text": [
      "100%|██████████| 20/20 [00:01<00:00, 13.07batch/s]\n"
     ]
    },
    {
     "name": "stdout",
     "output_type": "stream",
     "text": [
      "Epoch 13/15\n"
     ]
    },
    {
     "name": "stderr",
     "output_type": "stream",
     "text": [
      "100%|██████████| 20/20 [00:01<00:00, 19.41batch/s]\n"
     ]
    },
    {
     "name": "stdout",
     "output_type": "stream",
     "text": [
      "Epoch 14/15\n"
     ]
    },
    {
     "name": "stderr",
     "output_type": "stream",
     "text": [
      "100%|██████████| 20/20 [00:01<00:00, 19.15batch/s]\n"
     ]
    },
    {
     "name": "stdout",
     "output_type": "stream",
     "text": [
      "Epoch 15/15\n"
     ]
    },
    {
     "name": "stderr",
     "output_type": "stream",
     "text": [
      "100%|██████████| 20/20 [00:02<00:00,  6.79batch/s]\n"
     ]
    }
   ],
   "source": [
    "train_losses = []\n",
    "\n",
    "for epoch in range(1, EPOCHS+1):\n",
    "\n",
    "    print(f'Epoch {epoch}/{EPOCHS}')\n",
    "\n",
    "    train_epoch_losses = []\n",
    "    for images in tqdm(train_dataloader, unit='batch'):\n",
    "\n",
    "        optimizer.zero_grad()\n",
    "                \n",
    "        ae_images = ae(images)\n",
    "        loss = loss_function(ae_images, images)\n",
    "\n",
    "        loss.backward()\n",
    "        optimizer.step()\n",
    "\n",
    "        train_epoch_losses.append(loss.item())\n",
    "\n",
    "    epoch_loss = np.mean(train_epoch_losses)\n",
    "    train_losses.append(epoch_loss)\n",
    "    writer.add_scalar('autoencoder loss', epoch_loss, epoch)\n",
    "\n",
    "writer.flush()\n",
    "    "
   ]
  },
  {
   "cell_type": "code",
   "execution_count": 126,
   "metadata": {},
   "outputs": [
    {
     "data": {
      "image/png": "[encoded data removed]",
      "text/plain": [
       "<Figure size 640x480 with 1 Axes>"
      ]
     },
     "metadata": {},
     "output_type": "display_data"
    }
   ],
   "source": [
    "plt.plot(train_losses, label = \"Train\")\n",
    "plt.xticks(range(EPOCHS))\n",
    "plt.legend() \n",
    "plt.show()"
   ]
  },
  {
   "cell_type": "markdown",
   "metadata": {},
   "source": [
    "Посмотрим на распределения ошибок для обучающей выборки и для проливов"
   ]
  },
  {
   "cell_type": "code",
   "execution_count": 127,
   "metadata": {},
   "outputs": [],
   "source": [
    "train_losses_per_image = []\n",
    "\n",
    "for image in DataLoader(train_dataset, batch_size=1):       \n",
    "    ae_image = ae(image)\n",
    "    loss = loss_function(ae_image, image)\n",
    "    train_losses_per_image.append(loss.item())\n",
    "\n",
    "proliv_dataset = ImagesDataset(\n",
    "    PROLIV_PATH, \n",
    "    transform=transforms.Compose(\n",
    "            [\n",
    "              transforms.CenterCrop((TENSOR_SIZE[0] // 2, TENSOR_SIZE[1] // 2)),\n",
    "              transforms.ToTensor(),\n",
    "            ]\n",
    "        )\n",
    ")\n",
    "\n",
    "proliv_losses_per_image = []\n",
    "\n",
    "for image in DataLoader(proliv_dataset, batch_size=1):       \n",
    "    ae_image = ae(image)\n",
    "    loss = loss_function(ae_image, image)\n",
    "    proliv_losses_per_image.append(loss.item())\n"
   ]
  },
  {
   "cell_type": "markdown",
   "metadata": {},
   "source": [
    "Возьмем семпл из обучающий выборки по размеру равный размеру датасета с проливами."
   ]
  },
  {
   "cell_type": "code",
   "execution_count": 128,
   "metadata": {},
   "outputs": [],
   "source": [
    "random.shuffle(train_losses_per_image)\n",
    "\n",
    "train_losses_sample = train_losses_per_image[:len(proliv_losses_per_image)]"
   ]
  },
  {
   "cell_type": "code",
   "execution_count": 129,
   "metadata": {},
   "outputs": [
    {
     "data": {
      "image/png": "[encoded data removed]",
      "text/plain": [
       "<Figure size 588.875x500 with 1 Axes>"
      ]
     },
     "metadata": {},
     "output_type": "display_data"
    }
   ],
   "source": [
    "sns.displot({\"train\" : train_losses_sample, \"proliv\" : proliv_losses_per_image}, kind='kde')\n",
    "plt.show()"
   ]
  },
  {
   "cell_type": "markdown",
   "metadata": {},
   "source": [
    "Как и ожидалось, ошибка для проливов больше. MSE = 0.009 кажется неплохим вариантом для выбора в качестве порога согласно визуализации."
   ]
  },
  {
   "cell_type": "markdown",
   "metadata": {},
   "source": [
    "Установим порог классификации для автоэнкодера."
   ]
  },
  {
   "cell_type": "code",
   "execution_count": 135,
   "metadata": {},
   "outputs": [],
   "source": [
    "ae.threshold = 0.009"
   ]
  },
  {
   "cell_type": "markdown",
   "metadata": {},
   "source": [
    "Классифицируем изображения из теста."
   ]
  },
  {
   "cell_type": "code",
   "execution_count": 136,
   "metadata": {},
   "outputs": [],
   "source": [
    "transform=transforms.Compose(\n",
    "            [\n",
    "              transforms.CenterCrop((TENSOR_SIZE[0] // 2, TENSOR_SIZE[1] // 2)),\n",
    "              transforms.ToTensor(),\n",
    "            ]\n",
    "        )"
   ]
  },
  {
   "cell_type": "code",
   "execution_count": 137,
   "metadata": {},
   "outputs": [],
   "source": [
    "with open(TEST_ANNOT_PATH) as f:\n",
    "    lines = f.readlines()\n",
    "\n",
    "y_true = np.zeros(len(lines))\n",
    "y_pred = np.zeros(len(lines))\n",
    "\n",
    "for i, line in enumerate(lines):\n",
    "    image_name, label = line.split()\n",
    "    y_true[i] = int(label)\n",
    "    image = Image.open(os.path.join(TEST_IMGS_PATH, image_name))\n",
    "    transformed_image = transform(image)\n",
    "    transformed_image = torch.unsqueeze(transformed_image, 0)\n",
    "    y_pred[i] = ae.classify(transformed_image)"
   ]
  },
  {
   "cell_type": "code",
   "execution_count": 138,
   "metadata": {},
   "outputs": [
    {
     "name": "stdout",
     "output_type": "stream",
     "text": [
      "True positive rate: 77.52 %\n",
      "True negative rate: 97.9 %\n",
      "Precision: 56.5 %\n"
     ]
    }
   ],
   "source": [
    "cm = confusion_matrix(y_true, y_pred)\n",
    "\n",
    "tn = cm[0][0]\n",
    "fp = cm[0][1]\n",
    "fn = cm[1][0]\n",
    "tp = cm[1][1]\n",
    "\n",
    "precision = tp / (tp + fp)\n",
    "tpr = tp / (tp + fn)\n",
    "tnr = tn / (tn + fp)\n",
    "\n",
    "print(f\"True positive rate: {round(tpr * 100, 2)} %\")\n",
    "print(f\"True negative rate: {round(tnr * 100, 2)} %\")\n",
    "print(f\"Precision: {round(precision * 100, 2)} %\")"
   ]
  }
 ],
 "metadata": {
  "kernelspec": {
   "display_name": "gen_models",
   "language": "python",
   "name": "python3"
  },
  "language_info": {
   "codemirror_mode": {
    "name": "ipython",
    "version": 3
   },
   "file_extension": ".py",
   "mimetype": "text/x-python",
   "name": "python",
   "nbconvert_exporter": "python",
   "pygments_lexer": "ipython3",
   "version": "3.10.13"
  }
 },
 "nbformat": 4,
 "nbformat_minor": 2
}
